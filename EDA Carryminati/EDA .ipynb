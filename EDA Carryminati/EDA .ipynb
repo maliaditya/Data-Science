{
 "cells": [
  {
   "cell_type": "code",
   "execution_count": 2,
   "metadata": {},
   "outputs": [],
   "source": [
    "from bs4 import BeautifulSoup\n",
    "import requests"
   ]
  },
  {
   "cell_type": "code",
   "execution_count": 3,
   "metadata": {},
   "outputs": [],
   "source": [
    "source = requests.get('https://www.youtube.com/user/AddictedA1/videos').text\n",
    "\n",
    "soup = BeautifulSoup(source, 'lxml')"
   ]
  },
  {
   "cell_type": "code",
   "execution_count": 4,
   "metadata": {},
   "outputs": [
    {
     "name": "stdout",
     "output_type": "stream",
     "text": [
      "29\n"
     ]
    }
   ],
   "source": [
    "#print(soup.prettify())\n",
    "titles=[]\n",
    "# for a in soup.find_all('h3', class_=\"yt-lockup-title\"):\n",
    "#     titles.append(soup.find_all('a', class_=\"yt-uix-sessionlink yt-uix-tile-link spf-link yt-ui-ellipsis yt-ui-ellipsis-2\")['title'])\n",
    "\n",
    "sumtitle =0\n",
    "for anchor in soup.find_all('a', class_=\"yt-uix-sessionlink yt-uix-tile-link spf-link yt-ui-ellipsis yt-ui-ellipsis-2\"):\n",
    "    titles.append(anchor.text)\n",
    "    sumtitle += 1\n",
    "\n",
    "print(sumtitle)"
   ]
  },
  {
   "cell_type": "code",
   "execution_count": 5,
   "metadata": {},
   "outputs": [
    {
     "name": "stdout",
     "output_type": "stream",
     "text": [
      "29\n"
     ]
    }
   ],
   "source": [
    "views = []\n",
    "for anchor in soup.find_all('ul', class_=\"yt-lockup-meta-info\"):\n",
    "    views.append(anchor.text)\n",
    "    \n",
    "sum = 0\n",
    "#print(views)\n",
    "tokenized_view = []\n",
    "for view in views:\n",
    "    view_split = view.split()\n",
    "    tokenized_view.append(view_split[0])\n",
    "    sum += 1\n",
    "\n",
    "#print(tokenized_view)\n",
    "print(sum)"
   ]
  },
  {
   "cell_type": "code",
   "execution_count": 6,
   "metadata": {},
   "outputs": [],
   "source": [
    "Total_Revenue= []\n",
    "for view in tokenized_view:\n",
    "    Total_Revenue.append(int(int(view.replace(',', ''))/1000))\n"
   ]
  },
  {
   "cell_type": "code",
   "execution_count": 7,
   "metadata": {},
   "outputs": [],
   "source": [
    "Total_Revenueinr=[]\n",
    "for r in Total_Revenue:\n",
    "    Total_Revenueinr.append(r*75)"
   ]
  },
  {
   "cell_type": "code",
   "execution_count": 8,
   "metadata": {},
   "outputs": [],
   "source": [
    "import pandas as pd\n",
    "\n",
    "Carrys_data = pd.DataFrame(\n",
    "    {'Titles': titles,\n",
    "     'Total_Views': tokenized_view,\n",
    "     \"Total_Revenue($)\":Total_Revenue,\n",
    "     \"Total_Revenue(INR)\": Total_Revenueinr\n",
    "     \n",
    "    })\n",
    "\n"
   ]
  },
  {
   "cell_type": "markdown",
   "metadata": {},
   "source": [
    "## Revenue calculated -> 1000 views = 1USD"
   ]
  },
  {
   "cell_type": "code",
   "execution_count": 9,
   "metadata": {},
   "outputs": [
    {
     "data": {
      "text/html": [
       "<div>\n",
       "<style scoped>\n",
       "    .dataframe tbody tr th:only-of-type {\n",
       "        vertical-align: middle;\n",
       "    }\n",
       "\n",
       "    .dataframe tbody tr th {\n",
       "        vertical-align: top;\n",
       "    }\n",
       "\n",
       "    .dataframe thead th {\n",
       "        text-align: right;\n",
       "    }\n",
       "</style>\n",
       "<table border=\"1\" class=\"dataframe\">\n",
       "  <thead>\n",
       "    <tr style=\"text-align: right;\">\n",
       "      <th></th>\n",
       "      <th>Titles</th>\n",
       "      <th>Total_Views</th>\n",
       "      <th>Total_Revenue($)</th>\n",
       "      <th>Total_Revenue(INR)</th>\n",
       "    </tr>\n",
       "  </thead>\n",
       "  <tbody>\n",
       "    <tr>\n",
       "      <th>0</th>\n",
       "      <td>YALGAAR - CARRYMINATI X Wily Frenzy</td>\n",
       "      <td>6,682,634</td>\n",
       "      <td>6682</td>\n",
       "      <td>501150</td>\n",
       "    </tr>\n",
       "    <tr>\n",
       "      <th>1</th>\n",
       "      <td>YALGAAR....COMING SOON</td>\n",
       "      <td>28,944,463</td>\n",
       "      <td>28944</td>\n",
       "      <td>2170800</td>\n",
       "    </tr>\n",
       "    <tr>\n",
       "      <th>2</th>\n",
       "      <td>STOP MAKING ASSUMPTIONS | YOUTUBE VS TIK TOK: ...</td>\n",
       "      <td>62,163,528</td>\n",
       "      <td>62163</td>\n",
       "      <td>4662225</td>\n",
       "    </tr>\n",
       "    <tr>\n",
       "      <th>3</th>\n",
       "      <td>WARRIOR - CARRYMINATI X Wily Frenzy</td>\n",
       "      <td>9,242,393</td>\n",
       "      <td>9242</td>\n",
       "      <td>693150</td>\n",
       "    </tr>\n",
       "    <tr>\n",
       "      <th>4</th>\n",
       "      <td>FILM THE FLARE</td>\n",
       "      <td>21,358,045</td>\n",
       "      <td>21358</td>\n",
       "      <td>1601850</td>\n",
       "    </tr>\n",
       "    <tr>\n",
       "      <th>5</th>\n",
       "      <td>ARE YOU A VIRGIN? QNA 2020 | CARRYMINATI</td>\n",
       "      <td>12,711,793</td>\n",
       "      <td>12711</td>\n",
       "      <td>953325</td>\n",
       "    </tr>\n",
       "    <tr>\n",
       "      <th>6</th>\n",
       "      <td>BIG BOSS BIG BOSS BIG BOSS PART 2 | CARRYMINATI</td>\n",
       "      <td>27,400,955</td>\n",
       "      <td>27400</td>\n",
       "      <td>2055000</td>\n",
       "    </tr>\n",
       "    <tr>\n",
       "      <th>7</th>\n",
       "      <td>Zindagi - CARRYMINATI X Wily Frenzy</td>\n",
       "      <td>13,082,798</td>\n",
       "      <td>13082</td>\n",
       "      <td>981150</td>\n",
       "    </tr>\n",
       "    <tr>\n",
       "      <th>8</th>\n",
       "      <td>LADKA LADKI AUR WOH | CARRYMINATI</td>\n",
       "      <td>16,401,479</td>\n",
       "      <td>16401</td>\n",
       "      <td>1230075</td>\n",
       "    </tr>\n",
       "    <tr>\n",
       "      <th>9</th>\n",
       "      <td>NOT A DARING SHOW FT. WAKAR ZAQA  | CARRYMINATI</td>\n",
       "      <td>24,720,541</td>\n",
       "      <td>24720</td>\n",
       "      <td>1854000</td>\n",
       "    </tr>\n",
       "    <tr>\n",
       "      <th>10</th>\n",
       "      <td>TALENTED PEOPLE OF VIGO | CARRYMINATI</td>\n",
       "      <td>17,436,996</td>\n",
       "      <td>17436</td>\n",
       "      <td>1307700</td>\n",
       "    </tr>\n",
       "    <tr>\n",
       "      <th>11</th>\n",
       "      <td>CUTE GIRLS PRANK | CARRYMINATI</td>\n",
       "      <td>14,928,152</td>\n",
       "      <td>14928</td>\n",
       "      <td>1119600</td>\n",
       "    </tr>\n",
       "    <tr>\n",
       "      <th>12</th>\n",
       "      <td>wildest parties by carry minati</td>\n",
       "      <td>17,178,078</td>\n",
       "      <td>17178</td>\n",
       "      <td>1288350</td>\n",
       "    </tr>\n",
       "    <tr>\n",
       "      <th>13</th>\n",
       "      <td>I JUMPED OFF A PLANE | CARRYMINATI QnA 2019</td>\n",
       "      <td>8,634,764</td>\n",
       "      <td>8634</td>\n",
       "      <td>647550</td>\n",
       "    </tr>\n",
       "    <tr>\n",
       "      <th>14</th>\n",
       "      <td>TIKTOK EVOLUTION 2019 | CARRYMINATI</td>\n",
       "      <td>32,439,761</td>\n",
       "      <td>32439</td>\n",
       "      <td>2432925</td>\n",
       "    </tr>\n",
       "    <tr>\n",
       "      <th>15</th>\n",
       "      <td>SCHOOL TRIP OF THE YEAR</td>\n",
       "      <td>10,454,971</td>\n",
       "      <td>10454</td>\n",
       "      <td>784050</td>\n",
       "    </tr>\n",
       "    <tr>\n",
       "      <th>16</th>\n",
       "      <td>TRIGGER - CARRYMINATI X VIBGYOR</td>\n",
       "      <td>9,515,200</td>\n",
       "      <td>9515</td>\n",
       "      <td>713625</td>\n",
       "    </tr>\n",
       "    <tr>\n",
       "      <th>17</th>\n",
       "      <td>HEART BRAKEN KIDS OF TIK TOK</td>\n",
       "      <td>19,654,193</td>\n",
       "      <td>19654</td>\n",
       "      <td>1474050</td>\n",
       "    </tr>\n",
       "    <tr>\n",
       "      <th>18</th>\n",
       "      <td>NO MORE SINGLE: VALENTINE SPECIAL FEAT ROCKY</td>\n",
       "      <td>28,096,496</td>\n",
       "      <td>28096</td>\n",
       "      <td>2107200</td>\n",
       "    </tr>\n",
       "    <tr>\n",
       "      <th>19</th>\n",
       "      <td>MY REAL AGE | QNA 2019</td>\n",
       "      <td>8,384,498</td>\n",
       "      <td>8384</td>\n",
       "      <td>628800</td>\n",
       "    </tr>\n",
       "    <tr>\n",
       "      <th>20</th>\n",
       "      <td>Bye Pewdiepie | Carryminati</td>\n",
       "      <td>34,337,142</td>\n",
       "      <td>34337</td>\n",
       "      <td>2575275</td>\n",
       "    </tr>\n",
       "    <tr>\n",
       "      <th>21</th>\n",
       "      <td>WEDDING OF THE YEAR (I'M INVITED!)</td>\n",
       "      <td>20,919,669</td>\n",
       "      <td>20919</td>\n",
       "      <td>1568925</td>\n",
       "    </tr>\n",
       "    <tr>\n",
       "      <th>22</th>\n",
       "      <td>Big Boss pART 1</td>\n",
       "      <td>18,584,333</td>\n",
       "      <td>18584</td>\n",
       "      <td>1393800</td>\n",
       "    </tr>\n",
       "    <tr>\n",
       "      <th>23</th>\n",
       "      <td>PUBG INDIA: LIFE BATTLE ROYALE</td>\n",
       "      <td>22,970,948</td>\n",
       "      <td>22970</td>\n",
       "      <td>1722750</td>\n",
       "    </tr>\n",
       "    <tr>\n",
       "      <th>24</th>\n",
       "      <td>INDIAN KID MEETS TOM CRUISE</td>\n",
       "      <td>17,894,832</td>\n",
       "      <td>17894</td>\n",
       "      <td>1342050</td>\n",
       "    </tr>\n",
       "    <tr>\n",
       "      <th>25</th>\n",
       "      <td>HOW TO GET MODERN LOVE</td>\n",
       "      <td>16,545,073</td>\n",
       "      <td>16545</td>\n",
       "      <td>1240875</td>\n",
       "    </tr>\n",
       "    <tr>\n",
       "      <th>26</th>\n",
       "      <td>THE PERFECT BRIDE</td>\n",
       "      <td>14,417,809</td>\n",
       "      <td>14417</td>\n",
       "      <td>1081275</td>\n",
       "    </tr>\n",
       "    <tr>\n",
       "      <th>27</th>\n",
       "      <td>QnA 2018</td>\n",
       "      <td>5,177,238</td>\n",
       "      <td>5177</td>\n",
       "      <td>388275</td>\n",
       "    </tr>\n",
       "    <tr>\n",
       "      <th>28</th>\n",
       "      <td>English U.S.</td>\n",
       "      <td>11,331,939</td>\n",
       "      <td>11331</td>\n",
       "      <td>849825</td>\n",
       "    </tr>\n",
       "  </tbody>\n",
       "</table>\n",
       "</div>"
      ],
      "text/plain": [
       "                                               Titles Total_Views  \\\n",
       "0                 YALGAAR - CARRYMINATI X Wily Frenzy   6,682,634   \n",
       "1                              YALGAAR....COMING SOON  28,944,463   \n",
       "2   STOP MAKING ASSUMPTIONS | YOUTUBE VS TIK TOK: ...  62,163,528   \n",
       "3                 WARRIOR - CARRYMINATI X Wily Frenzy   9,242,393   \n",
       "4                                      FILM THE FLARE  21,358,045   \n",
       "5            ARE YOU A VIRGIN? QNA 2020 | CARRYMINATI  12,711,793   \n",
       "6     BIG BOSS BIG BOSS BIG BOSS PART 2 | CARRYMINATI  27,400,955   \n",
       "7                 Zindagi - CARRYMINATI X Wily Frenzy  13,082,798   \n",
       "8                   LADKA LADKI AUR WOH | CARRYMINATI  16,401,479   \n",
       "9     NOT A DARING SHOW FT. WAKAR ZAQA  | CARRYMINATI  24,720,541   \n",
       "10              TALENTED PEOPLE OF VIGO | CARRYMINATI  17,436,996   \n",
       "11                     CUTE GIRLS PRANK | CARRYMINATI  14,928,152   \n",
       "12                    wildest parties by carry minati  17,178,078   \n",
       "13        I JUMPED OFF A PLANE | CARRYMINATI QnA 2019   8,634,764   \n",
       "14                TIKTOK EVOLUTION 2019 | CARRYMINATI  32,439,761   \n",
       "15                            SCHOOL TRIP OF THE YEAR  10,454,971   \n",
       "16                    TRIGGER - CARRYMINATI X VIBGYOR   9,515,200   \n",
       "17                       HEART BRAKEN KIDS OF TIK TOK  19,654,193   \n",
       "18       NO MORE SINGLE: VALENTINE SPECIAL FEAT ROCKY  28,096,496   \n",
       "19                             MY REAL AGE | QNA 2019   8,384,498   \n",
       "20                        Bye Pewdiepie | Carryminati  34,337,142   \n",
       "21                 WEDDING OF THE YEAR (I'M INVITED!)  20,919,669   \n",
       "22                                    Big Boss pART 1  18,584,333   \n",
       "23                     PUBG INDIA: LIFE BATTLE ROYALE  22,970,948   \n",
       "24                        INDIAN KID MEETS TOM CRUISE  17,894,832   \n",
       "25                             HOW TO GET MODERN LOVE  16,545,073   \n",
       "26                                  THE PERFECT BRIDE  14,417,809   \n",
       "27                                           QnA 2018   5,177,238   \n",
       "28                                       English U.S.  11,331,939   \n",
       "\n",
       "    Total_Revenue($)  Total_Revenue(INR)  \n",
       "0               6682              501150  \n",
       "1              28944             2170800  \n",
       "2              62163             4662225  \n",
       "3               9242              693150  \n",
       "4              21358             1601850  \n",
       "5              12711              953325  \n",
       "6              27400             2055000  \n",
       "7              13082              981150  \n",
       "8              16401             1230075  \n",
       "9              24720             1854000  \n",
       "10             17436             1307700  \n",
       "11             14928             1119600  \n",
       "12             17178             1288350  \n",
       "13              8634              647550  \n",
       "14             32439             2432925  \n",
       "15             10454              784050  \n",
       "16              9515              713625  \n",
       "17             19654             1474050  \n",
       "18             28096             2107200  \n",
       "19              8384              628800  \n",
       "20             34337             2575275  \n",
       "21             20919             1568925  \n",
       "22             18584             1393800  \n",
       "23             22970             1722750  \n",
       "24             17894             1342050  \n",
       "25             16545             1240875  \n",
       "26             14417             1081275  \n",
       "27              5177              388275  \n",
       "28             11331              849825  "
      ]
     },
     "execution_count": 9,
     "metadata": {},
     "output_type": "execute_result"
    }
   ],
   "source": [
    "Carrys_data"
   ]
  },
  {
   "cell_type": "code",
   "execution_count": 10,
   "metadata": {},
   "outputs": [
    {
     "name": "stdout",
     "output_type": "stream",
     "text": [
      "<class 'pandas.core.frame.DataFrame'>\n",
      "RangeIndex: 29 entries, 0 to 28\n",
      "Data columns (total 4 columns):\n",
      " #   Column              Non-Null Count  Dtype \n",
      "---  ------              --------------  ----- \n",
      " 0   Titles              29 non-null     object\n",
      " 1   Total_Views         29 non-null     object\n",
      " 2   Total_Revenue($)    29 non-null     int64 \n",
      " 3   Total_Revenue(INR)  29 non-null     int64 \n",
      "dtypes: int64(2), object(2)\n",
      "memory usage: 1.0+ KB\n"
     ]
    }
   ],
   "source": [
    "Carrys_data.info()"
   ]
  },
  {
   "cell_type": "code",
   "execution_count": 11,
   "metadata": {},
   "outputs": [],
   "source": [
    "Total_views= []\n",
    "for view in tokenized_view:\n",
    "    Total_views.append(int(view.replace(',', '')))"
   ]
  },
  {
   "cell_type": "code",
   "execution_count": 12,
   "metadata": {},
   "outputs": [],
   "source": [
    "df = Carrys_data[['Titles', 'Total_Views']] "
   ]
  },
  {
   "cell_type": "code",
   "execution_count": 13,
   "metadata": {},
   "outputs": [
    {
     "data": {
      "text/plain": [
       "0                   YALGAAR - CARRYMINATI X Wily Frenzy\n",
       "1                                YALGAAR....COMING SOON\n",
       "2     STOP MAKING ASSUMPTIONS | YOUTUBE VS TIK TOK: ...\n",
       "3                   WARRIOR - CARRYMINATI X Wily Frenzy\n",
       "4                                        FILM THE FLARE\n",
       "5              ARE YOU A VIRGIN? QNA 2020 | CARRYMINATI\n",
       "6       BIG BOSS BIG BOSS BIG BOSS PART 2 | CARRYMINATI\n",
       "7                   Zindagi - CARRYMINATI X Wily Frenzy\n",
       "8                     LADKA LADKI AUR WOH | CARRYMINATI\n",
       "9       NOT A DARING SHOW FT. WAKAR ZAQA  | CARRYMINATI\n",
       "10                TALENTED PEOPLE OF VIGO | CARRYMINATI\n",
       "11                       CUTE GIRLS PRANK | CARRYMINATI\n",
       "12                      wildest parties by carry minati\n",
       "13          I JUMPED OFF A PLANE | CARRYMINATI QnA 2019\n",
       "14                  TIKTOK EVOLUTION 2019 | CARRYMINATI\n",
       "15                              SCHOOL TRIP OF THE YEAR\n",
       "16                      TRIGGER - CARRYMINATI X VIBGYOR\n",
       "17                         HEART BRAKEN KIDS OF TIK TOK\n",
       "18         NO MORE SINGLE: VALENTINE SPECIAL FEAT ROCKY\n",
       "19                               MY REAL AGE | QNA 2019\n",
       "20                          Bye Pewdiepie | Carryminati\n",
       "21                   WEDDING OF THE YEAR (I'M INVITED!)\n",
       "22                                      Big Boss pART 1\n",
       "23                       PUBG INDIA: LIFE BATTLE ROYALE\n",
       "24                          INDIAN KID MEETS TOM CRUISE\n",
       "25                               HOW TO GET MODERN LOVE\n",
       "26                                    THE PERFECT BRIDE\n",
       "27                                             QnA 2018\n",
       "28                                         English U.S.\n",
       "Name: Titles, dtype: object"
      ]
     },
     "execution_count": 13,
     "metadata": {},
     "output_type": "execute_result"
    }
   ],
   "source": [
    "df['Titles']"
   ]
  },
  {
   "cell_type": "code",
   "execution_count": 61,
   "metadata": {},
   "outputs": [
    {
     "data": {
      "image/png": "[encoded data removed]",
      "text/plain": [
       "<Figure size 432x288 with 1 Axes>"
      ]
     },
     "metadata": {
      "needs_background": "light"
     },
     "output_type": "display_data"
    }
   ],
   "source": [
    "from matplotlib import pyplot as plt\n",
    "%matplotlib inline\n",
    "plt.plot(Total_views,Total_Revenue)\n",
    "plt.xlabel('Views')\n",
    "plt.ylabel('Revenue generated in USD')\n",
    "\n",
    "plt.title(\"Revenue Generated over views\")\n",
    "plt.show()"
   ]
  },
  {
   "cell_type": "code",
   "execution_count": 57,
   "metadata": {},
   "outputs": [],
   "source": [
    "Titlesnew = titles[:15]\n",
    "TV = Total_views[:15]"
   ]
  },
  {
   "cell_type": "code",
   "execution_count": 58,
   "metadata": {},
   "outputs": [
    {
     "data": {
      "image/png": "[encoded data removed]",
      "text/plain": [
       "<Figure size 432x288 with 1 Axes>"
      ]
     },
     "metadata": {
      "needs_background": "light"
     },
     "output_type": "display_data"
    }
   ],
   "source": [
    "from matplotlib import pyplot as plt\n",
    "%matplotlib inline\n",
    "plt.barh(Titlesnew,TV)\n",
    "plt.xlabel('Views')\n",
    "#plt.ylabel('Views')\n",
    "plt.xticks()\n",
    "\n",
    "plt.title(\"CarryMinati Vedio Analysis\")\n",
    "plt.show()\n"
   ]
  },
  {
   "cell_type": "code",
   "execution_count": 60,
   "metadata": {},
   "outputs": [
    {
     "data": {
      "image/png": "[encoded data removed]",
      "text/plain": [
       "<Figure size 432x288 with 1 Axes>"
      ]
     },
     "metadata": {
      "needs_background": "light"
     },
     "output_type": "display_data"
    }
   ],
   "source": [
    "\n",
    "Titlesnew = titles[15:]\n",
    "TV = Total_views[15:]\n",
    "from matplotlib import pyplot as plt\n",
    "%matplotlib inline\n",
    "plt.barh(qTitlesnew,qTV)\n",
    "plt.xlabel('Views')\n",
    "#plt.ylabel('Views')\n",
    "plt.xticks()\n",
    "\n",
    "plt.title(\"CarryMinati Vedio Analysis\")\n",
    "plt.show()"
   ]
  },
  {
   "cell_type": "code",
   "execution_count": null,
   "metadata": {},
   "outputs": [],
   "source": []
  },
  {
   "cell_type": "code",
   "execution_count": null,
   "metadata": {},
   "outputs": [],
   "source": []
  },
  {
   "cell_type": "code",
   "execution_count": null,
   "metadata": {},
   "outputs": [],
   "source": []
  }
 ],
 "metadata": {
  "kernelspec": {
   "display_name": "Python 3",
   "language": "python",
   "name": "python3"
  },
  "language_info": {
   "codemirror_mode": {
    "name": "ipython",
    "version": 3
   },
   "file_extension": ".py",
   "mimetype": "text/x-python",
   "name": "python",
   "nbconvert_exporter": "python",
   "pygments_lexer": "ipython3",
   "version": "3.7.6"
  }
 },
 "nbformat": 4,
 "nbformat_minor": 4
}
