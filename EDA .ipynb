{
 "cells": [
  {
   "cell_type": "code",
   "execution_count": 2,
   "metadata": {},
   "outputs": [],
   "source": [
    "from bs4 import BeautifulSoup\n",
    "import requests"
   ]
  },
  {
   "cell_type": "code",
   "execution_count": 3,
   "metadata": {},
   "outputs": [],
   "source": [
    "source = requests.get('https://www.youtube.com/user/AddictedA1/videos').text\n",
    "\n",
    "soup = BeautifulSoup(source, 'lxml')"
   ]
  },
  {
   "cell_type": "code",
   "execution_count": 4,
   "metadata": {},
   "outputs": [
    {
     "name": "stdout",
     "output_type": "stream",
     "text": [
      "29\n"
     ]
    }
   ],
   "source": [
    "#print(soup.prettify())\n",
    "titles=[]\n",
    "# for a in soup.find_all('h3', class_=\"yt-lockup-title\"):\n",
    "#     titles.append(soup.find_all('a', class_=\"yt-uix-sessionlink yt-uix-tile-link spf-link yt-ui-ellipsis yt-ui-ellipsis-2\")['title'])\n",
    "\n",
    "sumtitle =0\n",
    "for anchor in soup.find_all('a', class_=\"yt-uix-sessionlink yt-uix-tile-link spf-link yt-ui-ellipsis yt-ui-ellipsis-2\"):\n",
    "    titles.append(anchor.text)\n",
    "    sumtitle += 1\n",
    "\n",
    "print(sumtitle)"
   ]
  },
  {
   "cell_type": "code",
   "execution_count": 5,
   "metadata": {},
   "outputs": [
    {
     "name": "stdout",
     "output_type": "stream",
     "text": [
      "29\n"
     ]
    }
   ],
   "source": [
    "views = []\n",
    "for anchor in soup.find_all('ul', class_=\"yt-lockup-meta-info\"):\n",
    "    views.append(anchor.text)\n",
    "    \n",
    "sum = 0\n",
    "#print(views)\n",
    "tokenized_view = []\n",
    "for view in views:\n",
    "    view_split = view.split()\n",
    "    tokenized_view.append(view_split[0])\n",
    "    sum += 1\n",
    "\n",
    "#print(tokenized_view)\n",
    "print(sum)"
   ]
  },
  {
   "cell_type": "code",
   "execution_count": 6,
   "metadata": {},
   "outputs": [],
   "source": [
    "Total_Revenue= []\n",
    "for view in tokenized_view:\n",
    "    Total_Revenue.append(int(int(view.replace(',', ''))/1000))\n"
   ]
  },
  {
   "cell_type": "code",
   "execution_count": 7,
   "metadata": {},
   "outputs": [],
   "source": [
    "Total_Revenueinr=[]\n",
    "for r in Total_Revenue:\n",
    "    Total_Revenueinr.append(r*75)"
   ]
  },
  {
   "cell_type": "code",
   "execution_count": 8,
   "metadata": {},
   "outputs": [],
   "source": [
    "import pandas as pd\n",
    "\n",
    "Carrys_data = pd.DataFrame(\n",
    "    {'Titles': titles,\n",
    "     'Total_Views': tokenized_view,\n",
    "     \"Total_Revenue($)\":Total_Revenue,\n",
    "     \"Total_Revenue(INR)\": Total_Revenueinr\n",
    "     \n",
    "    })\n",
    "\n"
   ]
  },
  {
   "cell_type": "markdown",
   "metadata": {},
   "source": [
    "## Revenue calculated -> 1000 views = 1USD"
   ]
  },
  {
   "cell_type": "code",
   "execution_count": 9,
   "metadata": {},
   "outputs": [
    {
     "data": {
      "text/html": [
       "<div>\n",
       "<style scoped>\n",
       "    .dataframe tbody tr th:only-of-type {\n",
       "        vertical-align: middle;\n",
       "    }\n",
       "\n",
       "    .dataframe tbody tr th {\n",
       "        vertical-align: top;\n",
       "    }\n",
       "\n",
       "    .dataframe thead th {\n",
       "        text-align: right;\n",
       "    }\n",
       "</style>\n",
       "<table border=\"1\" class=\"dataframe\">\n",
       "  <thead>\n",
       "    <tr style=\"text-align: right;\">\n",
       "      <th></th>\n",
       "      <th>Titles</th>\n",
       "      <th>Total_Views</th>\n",
       "      <th>Total_Revenue($)</th>\n",
       "      <th>Total_Revenue(INR)</th>\n",
       "    </tr>\n",
       "  </thead>\n",
       "  <tbody>\n",
       "    <tr>\n",
       "      <th>0</th>\n",
       "      <td>YALGAAR....COMING SOON</td>\n",
       "      <td>28,395,482</td>\n",
       "      <td>28395</td>\n",
       "      <td>2129625</td>\n",
       "    </tr>\n",
       "    <tr>\n",
       "      <th>1</th>\n",
       "      <td>STOP MAKING ASSUMPTIONS | YOUTUBE VS TIK TOK: ...</td>\n",
       "      <td>61,935,473</td>\n",
       "      <td>61935</td>\n",
       "      <td>4645125</td>\n",
       "    </tr>\n",
       "    <tr>\n",
       "      <th>2</th>\n",
       "      <td>WARRIOR - CARRYMINATI X Wily Frenzy</td>\n",
       "      <td>9,157,069</td>\n",
       "      <td>9157</td>\n",
       "      <td>686775</td>\n",
       "    </tr>\n",
       "    <tr>\n",
       "      <th>3</th>\n",
       "      <td>FILM THE FLARE</td>\n",
       "      <td>21,252,448</td>\n",
       "      <td>21252</td>\n",
       "      <td>1593900</td>\n",
       "    </tr>\n",
       "    <tr>\n",
       "      <th>4</th>\n",
       "      <td>ARE YOU A VIRGIN? QNA 2020 | CARRYMINATI</td>\n",
       "      <td>12,664,385</td>\n",
       "      <td>12664</td>\n",
       "      <td>949800</td>\n",
       "    </tr>\n",
       "    <tr>\n",
       "      <th>5</th>\n",
       "      <td>BIG BOSS BIG BOSS BIG BOSS PART 2 | CARRYMINATI</td>\n",
       "      <td>27,339,624</td>\n",
       "      <td>27339</td>\n",
       "      <td>2050425</td>\n",
       "    </tr>\n",
       "    <tr>\n",
       "      <th>6</th>\n",
       "      <td>Zindagi - CARRYMINATI X Wily Frenzy</td>\n",
       "      <td>12,927,180</td>\n",
       "      <td>12927</td>\n",
       "      <td>969525</td>\n",
       "    </tr>\n",
       "    <tr>\n",
       "      <th>7</th>\n",
       "      <td>LADKA LADKI AUR WOH | CARRYMINATI</td>\n",
       "      <td>16,355,306</td>\n",
       "      <td>16355</td>\n",
       "      <td>1226625</td>\n",
       "    </tr>\n",
       "    <tr>\n",
       "      <th>8</th>\n",
       "      <td>NOT A DARING SHOW FT. WAKAR ZAQA  | CARRYMINATI</td>\n",
       "      <td>24,618,761</td>\n",
       "      <td>24618</td>\n",
       "      <td>1846350</td>\n",
       "    </tr>\n",
       "    <tr>\n",
       "      <th>9</th>\n",
       "      <td>TALENTED PEOPLE OF VIGO | CARRYMINATI</td>\n",
       "      <td>17,373,941</td>\n",
       "      <td>17373</td>\n",
       "      <td>1302975</td>\n",
       "    </tr>\n",
       "    <tr>\n",
       "      <th>10</th>\n",
       "      <td>CUTE GIRLS PRANK | CARRYMINATI</td>\n",
       "      <td>14,887,283</td>\n",
       "      <td>14887</td>\n",
       "      <td>1116525</td>\n",
       "    </tr>\n",
       "    <tr>\n",
       "      <th>11</th>\n",
       "      <td>wildest parties by carry minati</td>\n",
       "      <td>17,131,519</td>\n",
       "      <td>17131</td>\n",
       "      <td>1284825</td>\n",
       "    </tr>\n",
       "    <tr>\n",
       "      <th>12</th>\n",
       "      <td>I JUMPED OFF A PLANE | CARRYMINATI QnA 2019</td>\n",
       "      <td>8,614,253</td>\n",
       "      <td>8614</td>\n",
       "      <td>646050</td>\n",
       "    </tr>\n",
       "    <tr>\n",
       "      <th>13</th>\n",
       "      <td>TIKTOK EVOLUTION 2019 | CARRYMINATI</td>\n",
       "      <td>32,345,064</td>\n",
       "      <td>32345</td>\n",
       "      <td>2425875</td>\n",
       "    </tr>\n",
       "    <tr>\n",
       "      <th>14</th>\n",
       "      <td>SCHOOL TRIP OF THE YEAR</td>\n",
       "      <td>10,430,772</td>\n",
       "      <td>10430</td>\n",
       "      <td>782250</td>\n",
       "    </tr>\n",
       "    <tr>\n",
       "      <th>15</th>\n",
       "      <td>TRIGGER - CARRYMINATI X VIBGYOR</td>\n",
       "      <td>9,415,557</td>\n",
       "      <td>9415</td>\n",
       "      <td>706125</td>\n",
       "    </tr>\n",
       "    <tr>\n",
       "      <th>16</th>\n",
       "      <td>HEART BRAKEN KIDS OF TIK TOK</td>\n",
       "      <td>19,595,907</td>\n",
       "      <td>19595</td>\n",
       "      <td>1469625</td>\n",
       "    </tr>\n",
       "    <tr>\n",
       "      <th>17</th>\n",
       "      <td>NO MORE SINGLE: VALENTINE SPECIAL FEAT ROCKY</td>\n",
       "      <td>28,057,083</td>\n",
       "      <td>28057</td>\n",
       "      <td>2104275</td>\n",
       "    </tr>\n",
       "    <tr>\n",
       "      <th>18</th>\n",
       "      <td>MY REAL AGE | QNA 2019</td>\n",
       "      <td>8,363,093</td>\n",
       "      <td>8363</td>\n",
       "      <td>627225</td>\n",
       "    </tr>\n",
       "    <tr>\n",
       "      <th>19</th>\n",
       "      <td>Bye Pewdiepie | Carryminati</td>\n",
       "      <td>34,265,236</td>\n",
       "      <td>34265</td>\n",
       "      <td>2569875</td>\n",
       "    </tr>\n",
       "    <tr>\n",
       "      <th>20</th>\n",
       "      <td>WEDDING OF THE YEAR (I'M INVITED!)</td>\n",
       "      <td>20,876,723</td>\n",
       "      <td>20876</td>\n",
       "      <td>1565700</td>\n",
       "    </tr>\n",
       "    <tr>\n",
       "      <th>21</th>\n",
       "      <td>Big Boss pART 1</td>\n",
       "      <td>18,527,389</td>\n",
       "      <td>18527</td>\n",
       "      <td>1389525</td>\n",
       "    </tr>\n",
       "    <tr>\n",
       "      <th>22</th>\n",
       "      <td>PUBG INDIA: LIFE BATTLE ROYALE</td>\n",
       "      <td>22,895,943</td>\n",
       "      <td>22895</td>\n",
       "      <td>1717125</td>\n",
       "    </tr>\n",
       "    <tr>\n",
       "      <th>23</th>\n",
       "      <td>INDIAN KID MEETS TOM CRUISE</td>\n",
       "      <td>17,859,908</td>\n",
       "      <td>17859</td>\n",
       "      <td>1339425</td>\n",
       "    </tr>\n",
       "    <tr>\n",
       "      <th>24</th>\n",
       "      <td>HOW TO GET MODERN LOVE</td>\n",
       "      <td>16,498,479</td>\n",
       "      <td>16498</td>\n",
       "      <td>1237350</td>\n",
       "    </tr>\n",
       "    <tr>\n",
       "      <th>25</th>\n",
       "      <td>THE PERFECT BRIDE</td>\n",
       "      <td>14,371,554</td>\n",
       "      <td>14371</td>\n",
       "      <td>1077825</td>\n",
       "    </tr>\n",
       "    <tr>\n",
       "      <th>26</th>\n",
       "      <td>QnA 2018</td>\n",
       "      <td>5,168,089</td>\n",
       "      <td>5168</td>\n",
       "      <td>387600</td>\n",
       "    </tr>\n",
       "    <tr>\n",
       "      <th>27</th>\n",
       "      <td>English U.S.</td>\n",
       "      <td>11,312,217</td>\n",
       "      <td>11312</td>\n",
       "      <td>848400</td>\n",
       "    </tr>\n",
       "    <tr>\n",
       "      <th>28</th>\n",
       "      <td>SANGEET BHOJPURI</td>\n",
       "      <td>14,999,645</td>\n",
       "      <td>14999</td>\n",
       "      <td>1124925</td>\n",
       "    </tr>\n",
       "  </tbody>\n",
       "</table>\n",
       "</div>"
      ],
      "text/plain": [
       "                                               Titles Total_Views  \\\n",
       "0                              YALGAAR....COMING SOON  28,395,482   \n",
       "1   STOP MAKING ASSUMPTIONS | YOUTUBE VS TIK TOK: ...  61,935,473   \n",
       "2                 WARRIOR - CARRYMINATI X Wily Frenzy   9,157,069   \n",
       "3                                      FILM THE FLARE  21,252,448   \n",
       "4            ARE YOU A VIRGIN? QNA 2020 | CARRYMINATI  12,664,385   \n",
       "5     BIG BOSS BIG BOSS BIG BOSS PART 2 | CARRYMINATI  27,339,624   \n",
       "6                 Zindagi - CARRYMINATI X Wily Frenzy  12,927,180   \n",
       "7                   LADKA LADKI AUR WOH | CARRYMINATI  16,355,306   \n",
       "8     NOT A DARING SHOW FT. WAKAR ZAQA  | CARRYMINATI  24,618,761   \n",
       "9               TALENTED PEOPLE OF VIGO | CARRYMINATI  17,373,941   \n",
       "10                     CUTE GIRLS PRANK | CARRYMINATI  14,887,283   \n",
       "11                    wildest parties by carry minati  17,131,519   \n",
       "12        I JUMPED OFF A PLANE | CARRYMINATI QnA 2019   8,614,253   \n",
       "13                TIKTOK EVOLUTION 2019 | CARRYMINATI  32,345,064   \n",
       "14                            SCHOOL TRIP OF THE YEAR  10,430,772   \n",
       "15                    TRIGGER - CARRYMINATI X VIBGYOR   9,415,557   \n",
       "16                       HEART BRAKEN KIDS OF TIK TOK  19,595,907   \n",
       "17       NO MORE SINGLE: VALENTINE SPECIAL FEAT ROCKY  28,057,083   \n",
       "18                             MY REAL AGE | QNA 2019   8,363,093   \n",
       "19                        Bye Pewdiepie | Carryminati  34,265,236   \n",
       "20                 WEDDING OF THE YEAR (I'M INVITED!)  20,876,723   \n",
       "21                                    Big Boss pART 1  18,527,389   \n",
       "22                     PUBG INDIA: LIFE BATTLE ROYALE  22,895,943   \n",
       "23                        INDIAN KID MEETS TOM CRUISE  17,859,908   \n",
       "24                             HOW TO GET MODERN LOVE  16,498,479   \n",
       "25                                  THE PERFECT BRIDE  14,371,554   \n",
       "26                                           QnA 2018   5,168,089   \n",
       "27                                       English U.S.  11,312,217   \n",
       "28                                   SANGEET BHOJPURI  14,999,645   \n",
       "\n",
       "    Total_Revenue($)  Total_Revenue(INR)  \n",
       "0              28395             2129625  \n",
       "1              61935             4645125  \n",
       "2               9157              686775  \n",
       "3              21252             1593900  \n",
       "4              12664              949800  \n",
       "5              27339             2050425  \n",
       "6              12927              969525  \n",
       "7              16355             1226625  \n",
       "8              24618             1846350  \n",
       "9              17373             1302975  \n",
       "10             14887             1116525  \n",
       "11             17131             1284825  \n",
       "12              8614              646050  \n",
       "13             32345             2425875  \n",
       "14             10430              782250  \n",
       "15              9415              706125  \n",
       "16             19595             1469625  \n",
       "17             28057             2104275  \n",
       "18              8363              627225  \n",
       "19             34265             2569875  \n",
       "20             20876             1565700  \n",
       "21             18527             1389525  \n",
       "22             22895             1717125  \n",
       "23             17859             1339425  \n",
       "24             16498             1237350  \n",
       "25             14371             1077825  \n",
       "26              5168              387600  \n",
       "27             11312              848400  \n",
       "28             14999             1124925  "
      ]
     },
     "execution_count": 9,
     "metadata": {},
     "output_type": "execute_result"
    }
   ],
   "source": [
    "Carrys_data"
   ]
  },
  {
   "cell_type": "code",
   "execution_count": 10,
   "metadata": {},
   "outputs": [
    {
     "name": "stdout",
     "output_type": "stream",
     "text": [
      "<class 'pandas.core.frame.DataFrame'>\n",
      "RangeIndex: 29 entries, 0 to 28\n",
      "Data columns (total 4 columns):\n",
      " #   Column              Non-Null Count  Dtype \n",
      "---  ------              --------------  ----- \n",
      " 0   Titles              29 non-null     object\n",
      " 1   Total_Views         29 non-null     object\n",
      " 2   Total_Revenue($)    29 non-null     int64 \n",
      " 3   Total_Revenue(INR)  29 non-null     int64 \n",
      "dtypes: int64(2), object(2)\n",
      "memory usage: 1.0+ KB\n"
     ]
    }
   ],
   "source": [
    "Carrys_data.info()"
   ]
  },
  {
   "cell_type": "code",
   "execution_count": 11,
   "metadata": {},
   "outputs": [],
   "source": [
    "Total_views= []\n",
    "for view in tokenized_view:\n",
    "    Total_views.append(int(view.replace(',', '')))"
   ]
  },
  {
   "cell_type": "code",
   "execution_count": 12,
   "metadata": {},
   "outputs": [],
   "source": [
    "df = Carrys_data[['Titles', 'Total_Views']] "
   ]
  },
  {
   "cell_type": "code",
   "execution_count": 13,
   "metadata": {},
   "outputs": [
    {
     "data": {
      "text/plain": [
       "0                                YALGAAR....COMING SOON\n",
       "1     STOP MAKING ASSUMPTIONS | YOUTUBE VS TIK TOK: ...\n",
       "2                   WARRIOR - CARRYMINATI X Wily Frenzy\n",
       "3                                        FILM THE FLARE\n",
       "4              ARE YOU A VIRGIN? QNA 2020 | CARRYMINATI\n",
       "5       BIG BOSS BIG BOSS BIG BOSS PART 2 | CARRYMINATI\n",
       "6                   Zindagi - CARRYMINATI X Wily Frenzy\n",
       "7                     LADKA LADKI AUR WOH | CARRYMINATI\n",
       "8       NOT A DARING SHOW FT. WAKAR ZAQA  | CARRYMINATI\n",
       "9                 TALENTED PEOPLE OF VIGO | CARRYMINATI\n",
       "10                       CUTE GIRLS PRANK | CARRYMINATI\n",
       "11                      wildest parties by carry minati\n",
       "12          I JUMPED OFF A PLANE | CARRYMINATI QnA 2019\n",
       "13                  TIKTOK EVOLUTION 2019 | CARRYMINATI\n",
       "14                              SCHOOL TRIP OF THE YEAR\n",
       "15                      TRIGGER - CARRYMINATI X VIBGYOR\n",
       "16                         HEART BRAKEN KIDS OF TIK TOK\n",
       "17         NO MORE SINGLE: VALENTINE SPECIAL FEAT ROCKY\n",
       "18                               MY REAL AGE | QNA 2019\n",
       "19                          Bye Pewdiepie | Carryminati\n",
       "20                   WEDDING OF THE YEAR (I'M INVITED!)\n",
       "21                                      Big Boss pART 1\n",
       "22                       PUBG INDIA: LIFE BATTLE ROYALE\n",
       "23                          INDIAN KID MEETS TOM CRUISE\n",
       "24                               HOW TO GET MODERN LOVE\n",
       "25                                    THE PERFECT BRIDE\n",
       "26                                             QnA 2018\n",
       "27                                         English U.S.\n",
       "28                                     SANGEET BHOJPURI\n",
       "Name: Titles, dtype: object"
      ]
     },
     "execution_count": 13,
     "metadata": {},
     "output_type": "execute_result"
    }
   ],
   "source": [
    "df['Titles']"
   ]
  },
  {
   "cell_type": "code",
   "execution_count": 17,
   "metadata": {},
   "outputs": [
    {
     "data": {
      "image/png": "[encoded data removed]",
      "text/plain": [
       "<Figure size 432x288 with 1 Axes>"
      ]
     },
     "metadata": {
      "needs_background": "light"
     },
     "output_type": "display_data"
    }
   ],
   "source": [
    "from matplotlib import pyplot as plt\n",
    "%matplotlib inline\n",
    "plt.plot(Total_views,Total_Revenue)\n",
    "plt.xlabel('Views')\n",
    "plt.ylabel('Revenue generated in USD')\n",
    "\n",
    "plt.title(\"Median Salary (USD) by AgeS\")\n",
    "plt.show()"
   ]
  },
  {
   "cell_type": "code",
   "execution_count": 16,
   "metadata": {},
   "outputs": [
    {
     "data": {
      "text/plain": [
       "[28395482,\n",
       " 61935473,\n",
       " 9157069,\n",
       " 21252448,\n",
       " 12664385,\n",
       " 27339624,\n",
       " 12927180,\n",
       " 16355306,\n",
       " 24618761,\n",
       " 17373941,\n",
       " 14887283,\n",
       " 17131519,\n",
       " 8614253,\n",
       " 32345064,\n",
       " 10430772,\n",
       " 9415557,\n",
       " 19595907,\n",
       " 28057083,\n",
       " 8363093,\n",
       " 34265236,\n",
       " 20876723,\n",
       " 18527389,\n",
       " 22895943,\n",
       " 17859908,\n",
       " 16498479,\n",
       " 14371554,\n",
       " 5168089,\n",
       " 11312217,\n",
       " 14999645]"
      ]
     },
     "execution_count": 16,
     "metadata": {},
     "output_type": "execute_result"
    }
   ],
   "source": [
    "Total_views"
   ]
  },
  {
   "cell_type": "code",
   "execution_count": null,
   "metadata": {},
   "outputs": [],
   "source": []
  }
 ],
 "metadata": {
  "kernelspec": {
   "display_name": "Python 3",
   "language": "python",
   "name": "python3"
  },
  "language_info": {
   "codemirror_mode": {
    "name": "ipython",
    "version": 3
   },
   "file_extension": ".py",
   "mimetype": "text/x-python",
   "name": "python",
   "nbconvert_exporter": "python",
   "pygments_lexer": "ipython3",
   "version": "3.7.6"
  }
 },
 "nbformat": 4,
 "nbformat_minor": 4
}
